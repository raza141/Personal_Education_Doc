{
 "cells": [
  {
   "cell_type": "markdown",
   "metadata": {},
   "source": [
    "### Object Oriented Programming(OOP) in Python:\n",
    "[YouTube Channel for OOP](https://youtu.be/64tJdFVh1Vs?si=GBVR-miq1taN3tfD)\n",
    "\n",
    "---\n",
    "\n",
    "**1. Classes and Objects:**\n",
    "- Class: A blueprint/Template for creating objects. It defines a data structure and behavior.\n",
    "- Object: An instance of a class. It represents a real-world entity and has attributes/Properties (data) and methods (functions).\n",
    "- Classes can be accessbed through objects and without object creation.\n",
    "\n",
    "<u>**Example:**</u>\n",
    "- ` Instance method :`\n",
    "    - without decorator & used self as a parameter for the method\n",
    "    - we can access class attributes through objects\n",
    "    - we can access instance attributes through objects\n",
    "- `Class method :`\n",
    "    - @classmethod(cls):\n",
    "    - we can access class attributes through class \n",
    "- `Static method :`\n",
    "    - @staticmethod decorator\n",
    "    - we can access class directly without objects creation and class attributes\n",
    "\n",
    "\n",
    "**2. Inheritance:**\n",
    "- Inheritance is a mechanism where one class acquires the properties and methods of another class.\n",
    "\n",
    "**3. Encapsulation:**\n",
    "- Encapsulation is the process of hiding the implementation details of an object and exposing only the necessary information to the user.\n",
    "    - Private attributes.\n",
    "        - Private attributes are attributes that can only be accessed within the class.\n",
    "        - We use _ before the attribute name to make it private.\n",
    "    - Protected attributes.\n",
    "        - Protected attributes are attributes that can only be accessed within the class and its subclasses.\n",
    "        - We use __ before the attribute name to make it protected.\n",
    "    - Public attributes\n",
    "        -  Normal attributes are public attributes which can be accessed from anywhere. \n",
    "\n",
    "**4. Polymorphism:**\n",
    "- Polymorphism is the ability of an object to take on many forms.\n",
    "\n",
    "<u>**5. Abstraction:**</u>\n",
    "- Abstraction is the process of hiding the implementation details and only showing the necessary information to the user.\n",
    "    - High level abstraction.\n",
    "    - Low level abstraction.\n",
    "- We can achive the abstraction for a class or method by using abstract classes and abstract methods.\n",
    "    - Using the `module abc` abc stands for abstract base classes.\n",
    "- To make a abstract class we should have at least one abstract method in it.\n",
    "- `Abstract methods` have only declaration and no implementation nor definition.\n",
    "- To make the method abstract we should use the `@abstractmethod` decorator. \n",
    "    - For example: \n",
    "        - from abc import ABC, abstractmethod\n",
    "        - class Shape(ABC):\n",
    "            - @abstractmethod\n",
    "            - def area(self):\n",
    "            - def perimeter(self):\n",
    "            - def draw(self):\n",
    "- Once we create abstract class we can't create an object of the class and we can't instantiate the class. \n",
    "- We should use the seperate file for the abstract class from the main fil, to avoid the error.\n",
    "- If `base class` use the abstract class then `derived class` should also use the abstract class.\n",
    "- This abstract method just show the functionality of the class, not the implementation.\n",
    "- One file for abstract class and one file for the implementation class, then we can create another main file and import here. \n",
    "        \n",
    "**6. Interface:**\n",
    "- Interface is a collection of methods that a class must implement.\n",
    "\n",
    "**7. Composition:**\n",
    "- Composition is a relationship between two classes.\n",
    "\n",
    "**8. Design Patterns:**\n",
    "- Design Patterns are reusable solutions to common problems.\n",
    "\n",
    "**9. SOLID Principles:**\n",
    "- SOLID Principles are design principles that help you to create reusable code.\n",
    "    - S: Single Responsibility Principle\n",
    "    - O: Open/Closed Principle\n",
    "    - L: Liskov Substitution Principle\n",
    "    - I: Interface Segregation Principle\n",
    "    - D: Dependency Inversion Principle\n",
    "\n",
    "**10. OOAD (Object Oriented Analysis and Design):**\n",
    "- OOAD is an approach to software development that uses object-oriented programming.\n",
    "\n",
    "**11. UML (Unified Modeling Language):**\n",
    "- UML is a modeling language that is used to create diagrams and flowcharts."
   ]
  },
  {
   "cell_type": "markdown",
   "metadata": {},
   "source": []
  },
  {
   "cell_type": "code",
   "execution_count": 38,
   "metadata": {},
   "outputs": [
    {
     "name": "stdout",
     "output_type": "stream",
     "text": [
      "10000\n",
      "15\n"
     ]
    }
   ],
   "source": [
    "# Inheritance Example with Multiple Inheritance (Coding):\n",
    "\n",
    "class Car:\n",
    "    price_of_new_car = 10000  # class attribute (These attributes are accessed by all instances) used for constant values \n",
    "    \n",
    "    def __init__ (self, make, model):\n",
    "        self.make = make     # property\n",
    "        self.model = model \n",
    "        \n",
    "    def price (self, price):  # method\n",
    "        return price + 10000\n",
    "    \n",
    "    @classmethod                        # decorator used to access class attributes(e.g. price_of_new_car)\n",
    "    def price_of_new_car_(cls):          # because it is a class method not object or instance method we use cls instead of self\n",
    "        return cls.price_of_new_car\n",
    "    \n",
    "    @staticmethod                           # staticmethod doesn't required to use self or cls as an argument and can be used without creating an instance of the class\n",
    "    def add10(x):\n",
    "        return x + 10\n",
    "    \n",
    "class ElectricCar(Car):\n",
    "    def __init__ (self, make, model, battery_size):\n",
    "        super().__init__(make, model)\n",
    "        self.battery_size = battery_size\n",
    "        \n",
    "    def range (self, battery_size):\n",
    "        if battery_size <= 60:\n",
    "            return \"60 km\"\n",
    "        elif battery_size <= 80:\n",
    "            return \"80 km\"\n",
    "        else:\n",
    "            return \"100 km\"\n",
    "            \n",
    "            \n",
    "class hybridCar(ElectricCar):\n",
    "    def __init__ (self, make, model, battery_size, engine_capity):\n",
    "        super().__init__(make, model, battery_size)\n",
    "        self.engine_capity = engine_capity\n",
    "        \n",
    "        \n",
    "ecar = ElectricCar(\"Toyota\", \"Camry\", 60)    # For instance method first we create the instance of class then we call the method with the instance\n",
    "dcar = hybridCar(\"Toyota\", \"Camry\", 60, 1.6)\n",
    "\n",
    "\n",
    "ecar.price(508)\n",
    "dcar.price(500)  # Inherit price from Car \n",
    "dcar.range(75) # Inherit range from ElectricCar \n",
    "newcar = Car('Toyota', 'Rav4')\n",
    "print(Car.price_of_new_car_())  # prints: 10000  # because it is a class method not object or instance method we use cls instead of self\n",
    "print(Car.add10(5))  # prints: 15   # but this is a static method which doesn't require an instance of the class, directly we can call it"
   ]
  },
  {
   "cell_type": "code",
   "execution_count": 36,
   "metadata": {},
   "outputs": [
    {
     "name": "stdout",
     "output_type": "stream",
     "text": [
      "10000\n"
     ]
    }
   ],
   "source": []
  },
  {
   "cell_type": "markdown",
   "metadata": {},
   "source": [
    "# Encapsulation Example (Coding):"
   ]
  }
 ],
 "metadata": {
  "kernelspec": {
   "display_name": "base",
   "language": "python",
   "name": "python3"
  },
  "language_info": {
   "codemirror_mode": {
    "name": "ipython",
    "version": 3
   },
   "file_extension": ".py",
   "mimetype": "text/x-python",
   "name": "python",
   "nbconvert_exporter": "python",
   "pygments_lexer": "ipython3",
   "version": "3.11.5"
  }
 },
 "nbformat": 4,
 "nbformat_minor": 2
}

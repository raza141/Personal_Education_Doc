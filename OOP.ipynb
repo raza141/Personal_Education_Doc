{
 "cells": [
  {
   "cell_type": "code",
   "execution_count": 1,
   "metadata": {},
   "outputs": [],
   "source": [
    "import pandas as pd, numpy as np, datetime as dt"
   ]
  },
  {
   "cell_type": "markdown",
   "metadata": {},
   "source": [
    "### Object Oriented Programming(OOP) in Python:\n",
    "---\n",
    "\n",
    "**1. Classes and Objects:**\n",
    "- Class: A blueprint/Template for creating objects. It defines a data structure and behavior.\n",
    "- Object: An instance of a class. It represents a real-world entity and has attributes/Properties (data) and methods (functions).\n",
    "\n",
    "**2. Inheritance:**\n",
    "- Inheritance is a mechanism where one class acquires the properties and methods of another class.\n",
    "\n",
    "**3. Encapsulation:**\n",
    "- Encapsulation is the process of hiding the implementation details of an object and exposing only the necessary information to the user.\n",
    "    - Private attributes \n",
    "    - Protected attributes \n",
    "    - Public attributes\n",
    "\n",
    "**4. Polymorphism:**\n",
    "- Polymorphism is the ability of an object to take on many forms.\n",
    "\n",
    "**5. Abstraction:**\n",
    "- Abstraction is the process of hiding the implementation details and only showing the necessary information to the user.\n",
    "\n",
    "**6. Interface:**\n",
    "- Interface is a collection of methods that a class must implement.\n",
    "\n",
    "**7. Composition:**\n",
    "- Composition is a relationship between two classes.\n",
    "\n",
    "**8. Design Patterns:**\n",
    "- Design Patterns are reusable solutions to common problems.\n",
    "\n",
    "**9. SOLID Principles:**\n",
    "- SOLID Principles are design principles that help you to create reusable code.\n",
    "    - S: Single Responsibility Principle\n",
    "    - O: Open/Closed Principle\n",
    "    - L: Liskov Substitution Principle\n",
    "    - I: Interface Segregation Principle\n",
    "    - D: Dependency Inversion Principle\n",
    "\n",
    "**10. OOAD (Object Oriented Analysis and Design):**\n",
    "- OOAD is an approach to software development that uses object-oriented programming.\n",
    "\n",
    "**11. UML (Unified Modeling Language):**\n",
    "- UML is a modeling language that is used to create diagrams and flowcharts."
   ]
  },
  {
   "cell_type": "markdown",
   "metadata": {},
   "source": []
  },
  {
   "cell_type": "code",
   "execution_count": 10,
   "metadata": {},
   "outputs": [
    {
     "data": {
      "text/plain": [
       "'80 km'"
      ]
     },
     "execution_count": 10,
     "metadata": {},
     "output_type": "execute_result"
    }
   ],
   "source": [
    "# Inheritance Example with Multiple Inheritance (Coding):\n",
    "\n",
    "class Car:\n",
    "    def __init__ (self, make, model):\n",
    "        self.make = make     # property\n",
    "        self.model = model \n",
    "        \n",
    "    def price (self, price):  # method\n",
    "        return price + 10000\n",
    "    \n",
    "    \n",
    "class ElectricCar(Car):\n",
    "    def __init__ (self, make, model, battery_size):\n",
    "        super().__init__(make, model)\n",
    "        self.battery_size = battery_size\n",
    "        \n",
    "    def range (self, battery_size):\n",
    "        if battery_size <= 60:\n",
    "            return \"60 km\"\n",
    "        elif battery_size <= 80:\n",
    "            return \"80 km\"\n",
    "        else:\n",
    "            return \"100 km\"\n",
    "            \n",
    "            \n",
    "class hybridCar(ElectricCar):\n",
    "    def __init__ (self, make, model, battery_size, engine_capity):\n",
    "        super().__init__(make, model, battery_size)\n",
    "        self.engine_capity = engine_capity\n",
    "        \n",
    "        \n",
    "ecar = ElectricCar(\"Toyota\", \"Camry\", 60)\n",
    "dcar = hybridCar(\"Toyota\", \"Camry\", 60, 1.6)\n",
    "\n",
    "\n",
    "ecar.price(508)\n",
    "dcar.price(500)  # Inherit price from Car \n",
    "dcar.range(75) # Inherit range from ElectricCar "
   ]
  },
  {
   "cell_type": "code",
   "execution_count": null,
   "metadata": {},
   "outputs": [],
   "source": [
    "# Encapsulation Example (Coding):"
   ]
  }
 ],
 "metadata": {
  "kernelspec": {
   "display_name": "base",
   "language": "python",
   "name": "python3"
  },
  "language_info": {
   "codemirror_mode": {
    "name": "ipython",
    "version": 3
   },
   "file_extension": ".py",
   "mimetype": "text/x-python",
   "name": "python",
   "nbconvert_exporter": "python",
   "pygments_lexer": "ipython3",
   "version": "3.11.5"
  }
 },
 "nbformat": 4,
 "nbformat_minor": 2
}

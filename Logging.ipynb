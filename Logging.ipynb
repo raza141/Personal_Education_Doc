{
 "cells": [
  {
   "cell_type": "markdown",
   "metadata": {},
   "source": [
    "- logging.basicConfig(level=logging.INFO)\n",
    "- pdf_path = \"quote_202317nov.pdf\"\n"
   ]
  },
  {
   "cell_type": "markdown",
   "metadata": {},
   "source": []
  }
 ],
 "metadata": {
  "language_info": {
   "name": "python"
  }
 },
 "nbformat": 4,
 "nbformat_minor": 2
}



GitHub Copilot: The `logging.basicConfig(level=logging.INFO)` call is typically placed at the start of your script or in the main function. This is because `basicConfig` configures the root logger, which is a singleton used by all logging calls. Calling `basicConfig` multiple times has no effect after the first call, so it's usually placed at the start of the script to ensure it's called before any logging occurs.

If you place `logging.basicConfig(level=logging.INFO)` inside a function and that function is not the first one to use logging, the configuration might not be applied because the root logger has already been configured.

In your case, if `extract_page_numbers` is the only function that uses logging and it's always the first one to be called, you could place `logging.basicConfig(level=logging.INFO)` inside it. However, if other functions also use logging or if `extract_page_numbers` might not be the first function to be called, it's better to place `logging.basicConfig(level=logging.INFO)` at the start of your script or in your main function.
